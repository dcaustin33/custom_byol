{
 "cells": [
  {
   "cell_type": "code",
   "execution_count": 14,
   "metadata": {},
   "outputs": [],
   "source": [
    "import numpy as np\n",
    "\n",
    "#template taken from https://github.com/jadore801120/attention-is-all-you-need-pytorch/blob/132907dd272e2cc92e3c10e6c4e783a87ff8893d/transformer/Optim.py#L4\n",
    "class LRCosineDecay():\n",
    "    '''\n",
    "    A simple wrapper class for learning rate scheduling and updating parameters with SGD\n",
    "    '''\n",
    "\n",
    "    def __init__(self, optimizer, total_steps, lr_max = .2, lr_min = .001, n_warmup_steps = 10):\n",
    "        self._optimizer = optimizer\n",
    "        self.lr_max = lr_max\n",
    "        self.lr_min = lr_min\n",
    "        self.n_warmup_steps = n_warmup_steps\n",
    "        self.total_steps = total_steps - n_warmup_steps\n",
    "        self.n_steps = 0\n",
    "        self.warmup = [self.lr_max / n_warmup_steps * i for i in range(1, n_warmup_steps + 1)]\n",
    "        \n",
    "\n",
    "\n",
    "    def step(self):\n",
    "        '''\n",
    "        Step with the inner optimizer\n",
    "        '''\n",
    "        self._update_learning_rate()\n",
    "        self._optimizer.step()\n",
    "\n",
    "\n",
    "    def _get_lr_scale(self):\n",
    "        if self.n_steps < self.n_warmup_steps:\n",
    "            lr = self.warmup[self.n_steps]\n",
    "        else:\n",
    "            current_steps = self.n_steps - self.n_warmup_steps\n",
    "            lr = self.lr_min + .5*(self.lr_max - self.lr_min)*(1 + np.cos(np.pi * current_steps / self.total_steps))\n",
    "        return lr\n",
    "\n",
    "\n",
    "    def _update_learning_rate(self):\n",
    "        ''' Learning rate scheduling per step '''\n",
    "        \n",
    "        lr = self._get_lr_scale()\n",
    "        self.n_steps += 1\n",
    "        \n",
    "\n",
    "        for param_group in self._optimizer.param_groups:\n",
    "            param_group['lr'] = lr"
   ]
  },
  {
   "cell_type": "code",
   "execution_count": 15,
   "metadata": {},
   "outputs": [],
   "source": [
    "class EMACosineDecay():\n",
    "    '''\n",
    "    Uses the BYOL EMA decay given in the paper\n",
    "    '''\n",
    "    def __init__(self, total_steps, tau_base):\n",
    "        self.n_steps = 0\n",
    "        self.max_steps = total_steps\n",
    "        self.tau_base = tau_base\n",
    "        self.current_tau = tau_base\n",
    "        \n",
    "    def get_tau(self):\n",
    "        self.current_tau = 1 - (1 - self.tau_base)*(np.cos(np.pi * self.n_steps / self.max_steps) + 1) / 2\n",
    "        self.n_steps += 1\n",
    "        if self.current_tau > 1: self.current_tau = 1\n",
    "        return self.current_tau"
   ]
  }
 ],
 "metadata": {
  "kernelspec": {
   "display_name": "Python 3 (ipykernel)",
   "language": "python",
   "name": "python3"
  },
  "language_info": {
   "codemirror_mode": {
    "name": "ipython",
    "version": 3
   },
   "file_extension": ".py",
   "mimetype": "text/x-python",
   "name": "python",
   "nbconvert_exporter": "python",
   "pygments_lexer": "ipython3",
   "version": "3.9.7"
  }
 },
 "nbformat": 4,
 "nbformat_minor": 4
}
